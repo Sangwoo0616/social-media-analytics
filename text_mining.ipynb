{
 "cells": [
  {
   "attachments": {},
   "cell_type": "markdown",
   "metadata": {},
   "source": [
    "# Business insights on car brands through text mining"
   ]
  },
  {
   "attachments": {},
   "cell_type": "markdown",
   "metadata": {},
   "source": [
    "## Text Cleaning"
   ]
  },
  {
   "cell_type": "code",
   "execution_count": 3,
   "metadata": {},
   "outputs": [],
   "source": [
    "# import modules\n",
    "import pandas as pd\n",
    "import numpy as np\n",
    "import collections\n",
    "import re\n",
    "import nltk\n",
    "#nltk.download('punkt')\n",
    "import spacy\n",
    "import string"
   ]
  },
  {
   "cell_type": "code",
   "execution_count": 4,
   "metadata": {},
   "outputs": [],
   "source": [
    "# read data\n",
    "manufacturer = pd.read_csv(\"./manufacturer.csv\")\n",
    "discussions_forum = pd.read_csv(\"./discussions_forum.csv\")"
   ]
  },
  {
   "cell_type": "code",
   "execution_count": 5,
   "metadata": {},
   "outputs": [
    {
     "name": "stdout",
     "output_type": "stream",
     "text": [
      "  name_of_manufacturers\n",
      "0                  SNVI\n",
      "1               Zanella\n",
      "2                Koller\n",
      "3            Anasagasti\n",
      "4            AutoLatina\n",
      "      user_names                   dates  \\\n",
      "0       cybersol  March 23, 2002 11:04AM   \n",
      "1          merc1   March 24, 2002 9:54PM   \n",
      "2         fredvh  March 24, 2002 11:06PM   \n",
      "3  blueguydotcom   March 25, 2002 9:02AM   \n",
      "4    hungrywhale   March 25, 2002 3:04PM   \n",
      "\n",
      "                                            comments  \n",
      "0  Entry level performance luxury sedans are a ho...  \n",
      "1  I personally think that with a few tweaks the ...  \n",
      "2  I am debating a new purchase and these two are...  \n",
      "3  Great handling, RWD, excellent engine and the ...  \n",
      "4  And no manual tranny. That may not matter to y...  \n"
     ]
    }
   ],
   "source": [
    "# check data\n",
    "print(manufacturer.head())\n",
    "print(discussions_forum.head())"
   ]
  },
  {
   "cell_type": "code",
   "execution_count": 6,
   "metadata": {},
   "outputs": [
    {
     "name": "stdout",
     "output_type": "stream",
     "text": [
      "                                            comments\n",
      "0  Entry level performance luxury sedans are a ho...\n",
      "1  I personally think that with a few tweaks the ...\n",
      "2  I am debating a new purchase and these two are...\n",
      "3  Great handling, RWD, excellent engine and the ...\n",
      "4  And no manual tranny. That may not matter to y...\n"
     ]
    }
   ],
   "source": [
    "# create a dataframe from the comments column of discussions_forum\n",
    "df = pd.DataFrame(discussions_forum['comments'])\n",
    "\n",
    "# check data\n",
    "print(df.head())"
   ]
  },
  {
   "cell_type": "code",
   "execution_count": 7,
   "metadata": {},
   "outputs": [
    {
     "name": "stdout",
     "output_type": "stream",
     "text": [
      "Entry level performance luxury sedans are a hot area for car manufacturers and enthusiasts alike. These sedans show their performance by being fun to drive and handling well. They show luxury by offering leather and some of the important creatures comforts found in the most luxurious upscale sedans. The selection of vehicles that compete in the space is vast and varied.The benchmarks which define this are the BMW 330 and the Audi A4 3.0. But there are many contenders, such as Acura TL-S, Chrysler 300M, Jaguar X-type, Infiniti I35, Mercedes C-Class, Volvo S60 T5. Some companies have contenders that emphasize performance Lexus IS300 or luxury Lexus ES300. And the field is continously growing, with the recent additions being the Cadillac CTS and Infiniti G35.The common charateristics of this entry level perfomance luxury group seem to a price around 30 to 40k (US dollars) and 0-60 times between six and eight seconds.With this wide variety of cars targeted at a similar market segment, the choices for our own personal car are great. But with all these choices, it is hard to understand and personally evaluate all these options. So this topic has been created to start a discussion on the relative merits and personalities of the cars available in this entry level performance luxury field.\n"
     ]
    }
   ],
   "source": [
    "# print first row of comments column\n",
    "print(df['comments'][0])"
   ]
  },
  {
   "cell_type": "code",
   "execution_count": 8,
   "metadata": {},
   "outputs": [
    {
     "name": "stdout",
     "output_type": "stream",
     "text": [
      "comments    24\n",
      "dtype: int64\n"
     ]
    }
   ],
   "source": [
    "# check missing values\n",
    "print(df.isnull().sum())\n",
    "\n",
    "# drop missing values\n",
    "df.dropna(inplace=True)"
   ]
  },
  {
   "cell_type": "code",
   "execution_count": 9,
   "metadata": {},
   "outputs": [
    {
     "name": "stdout",
     "output_type": "stream",
     "text": [
      "12\n"
     ]
    }
   ],
   "source": [
    "# check duplicates\n",
    "print(df.duplicated().sum())\n",
    "\n",
    "# drop duplicates\n",
    "df.drop_duplicates(inplace=True)"
   ]
  },
  {
   "cell_type": "code",
   "execution_count": 10,
   "metadata": {},
   "outputs": [
    {
     "name": "stdout",
     "output_type": "stream",
     "text": [
      "                                            comments\n",
      "0  [Entry, level, performance, luxury, sedans, ar...\n",
      "1  [I, personally, think, that, with, a, few, twe...\n",
      "2  [I, am, debating, a, new, purchase, and, these...\n",
      "3  [Great, handling, ,, RWD, ,, excellent, engine...\n",
      "4  [And, no, manual, tranny, ., That, may, not, m...\n"
     ]
    }
   ],
   "source": [
    "from nltk import word_tokenize\n",
    "\n",
    "# tokenize comments column until the last row\n",
    "df['comments'] = df['comments'].apply(lambda x: word_tokenize(x))\n",
    "\n",
    "# check data\n",
    "print(df.head())"
   ]
  },
  {
   "cell_type": "code",
   "execution_count": 11,
   "metadata": {},
   "outputs": [
    {
     "name": "stdout",
     "output_type": "stream",
     "text": [
      "                                            comments\n",
      "0  [entry, level, performance, luxury, sedans, ar...\n",
      "1  [i, personally, think, that, with, a, few, twe...\n",
      "2  [i, am, debating, a, new, purchase, and, these...\n",
      "3  [great, handling, ,, rwd, ,, excellent, engine...\n",
      "4  [and, no, manual, tranny, ., that, may, not, m...\n"
     ]
    }
   ],
   "source": [
    "# lowercase all words\n",
    "df['comments'] = df['comments'].apply(lambda x: [word.lower() for word in x])\n",
    "\n",
    "# check data\n",
    "print(df.head())"
   ]
  },
  {
   "cell_type": "code",
   "execution_count": 12,
   "metadata": {},
   "outputs": [
    {
     "name": "stdout",
     "output_type": "stream",
     "text": [
      "                                            comments\n",
      "0  [entry, level, performance, luxury, sedans, ar...\n",
      "1  [i, personally, think, that, with, a, few, twe...\n",
      "2  [i, am, debating, a, new, purchase, and, these...\n",
      "3  [great, handling, rwd, excellent, engine, and,...\n",
      "4  [and, no, manual, tranny, that, may, not, matt...\n"
     ]
    }
   ],
   "source": [
    "# remove punctuation\n",
    "df['comments'] = df['comments'].apply(lambda x: [word for word in x if word not in string.punctuation])\n",
    "\n",
    "# check data\n",
    "print(df.head())"
   ]
  },
  {
   "cell_type": "code",
   "execution_count": 13,
   "metadata": {},
   "outputs": [
    {
     "name": "stdout",
     "output_type": "stream",
     "text": [
      "                                            comments\n",
      "0  [entry, level, performance, luxury, sedans, ho...\n",
      "1  [personally, think, tweaks, c320, could, also,...\n",
      "2  [debating, new, purchase, two, top, list, pric...\n",
      "3  [great, handling, rwd, excellent, engine, best...\n",
      "4  [manual, tranny, may, matter, certainly, matte...\n"
     ]
    }
   ],
   "source": [
    "# remove stopwords\n",
    "#nltk.download('stopwords')\n",
    "from nltk.corpus import stopwords\n",
    "stop_words = stopwords.words('english')\n",
    "df['comments'] = df['comments'].apply(lambda x: [word for word in x if word not in stop_words])\n",
    "\n",
    "# check data\n",
    "print(df.head())"
   ]
  },
  {
   "cell_type": "code",
   "execution_count": 14,
   "metadata": {},
   "outputs": [
    {
     "name": "stdout",
     "output_type": "stream",
     "text": [
      "                                            comments\n",
      "0  [benchmarks, performance, emphasize, wide, see...\n",
      "1  [square, much, sit, performance, coupe, wood, ...\n",
      "2  [service, list, better, much, new, familiar, n...\n",
      "3  [handling, around, best, winner, excellent, rw...\n",
      "4  [many, let, certainly, 'easy, winner, imo, boa...\n"
     ]
    }
   ],
   "source": [
    "# remove duplicates or words that appear more than once in a comment\n",
    "df['comments'] = df['comments'].apply(lambda x: list(set(x)))\n",
    "\n",
    "# check data\n",
    "print(df.head())"
   ]
  },
  {
   "cell_type": "code",
   "execution_count": 15,
   "metadata": {},
   "outputs": [
    {
     "name": "stdout",
     "output_type": "stream",
     "text": [
      "                                            comments\n",
      "0  [benchmarks, performance, emphasize, wide, see...\n",
      "1  [square, much, sit, performance, coupe, wood, ...\n",
      "2  [service, list, better, much, new, familiar, n...\n",
      "3  [handling, around, best, winner, excellent, rw...\n",
      "4  [many, let, certainly, winner, imo, board, may...\n"
     ]
    }
   ],
   "source": [
    "# remove rare words\n",
    "from collections import Counter\n",
    "counts = Counter()\n",
    "for index, row in df.iterrows():\n",
    "    counts.update(row['comments'])\n",
    "df['comments'] = df['comments'].apply(lambda x: [word for word in x if counts[word] > 1])\n",
    "\n",
    "# check data\n",
    "print(df.head())"
   ]
  },
  {
   "cell_type": "code",
   "execution_count": 16,
   "metadata": {},
   "outputs": [
    {
     "name": "stdout",
     "output_type": "stream",
     "text": [
      "  name_of_manufacturers\n",
      "0                  SNVI\n",
      "1               Zanella\n",
      "2                Koller\n",
      "3            Anasagasti\n",
      "4            AutoLatina\n"
     ]
    }
   ],
   "source": [
    "# create a dataframe from the name_of_manufacturers column of manufacturer\n",
    "df1 = pd.DataFrame(manufacturer['name_of_manufacturers'])\n",
    "\n",
    "# check data\n",
    "print(df1.head())"
   ]
  },
  {
   "cell_type": "code",
   "execution_count": 17,
   "metadata": {},
   "outputs": [
    {
     "name": "stdout",
     "output_type": "stream",
     "text": [
      "name_of_manufacturers    0\n",
      "dtype: int64\n",
      "19\n"
     ]
    }
   ],
   "source": [
    "# check missing values and duplicates\n",
    "print(df1.isnull().sum())\n",
    "print(df1.duplicated().sum())\n",
    "\n",
    "# drop missing values and duplicates\n",
    "df1.drop_duplicates(inplace=True)"
   ]
  },
  {
   "cell_type": "code",
   "execution_count": 18,
   "metadata": {},
   "outputs": [
    {
     "name": "stdout",
     "output_type": "stream",
     "text": [
      "  name_of_manufacturers\n",
      "0                  snvi\n",
      "1               zanella\n",
      "2                koller\n",
      "3            anasagasti\n",
      "4            autolatina\n"
     ]
    }
   ],
   "source": [
    "# lowercase all words\n",
    "df1['name_of_manufacturers'] = df1['name_of_manufacturers'].apply(lambda x: x.lower())\n",
    "\n",
    "# check data\n",
    "print(df1.head())"
   ]
  },
  {
   "cell_type": "code",
   "execution_count": 19,
   "metadata": {},
   "outputs": [
    {
     "name": "stdout",
     "output_type": "stream",
     "text": [
      "  name_of_manufacturers\n",
      "0                  snvi\n",
      "1               zanella\n",
      "2                koller\n",
      "3            anasagasti\n",
      "4            autolatina\n"
     ]
    }
   ],
   "source": [
    "# remove punctuation\n",
    "df1['name_of_manufacturers'] = df1['name_of_manufacturers'].apply(lambda x: x.translate(str.maketrans('', '', string.punctuation)))\n",
    "\n",
    "# check data\n",
    "print(df1.head())"
   ]
  },
  {
   "cell_type": "code",
   "execution_count": 20,
   "metadata": {},
   "outputs": [
    {
     "name": "stdout",
     "output_type": "stream",
     "text": [
      "{'haynes', 'asia motors', 'mitsubishi fuso', 'cole', 'rambler', 'nova bus', 'brennabor', 'toyota', 'bohdan', 'bentley', 'national', 'pirinfiat', 'callaway', 'lamborghini', 'allard', 'locomobile', 'think  ', 'santa matilde', 'englon', 'fordvairogs', 'fap', 'wanderer', 'isuzu', 'effa', 'triumph', 'roman', 'dfm', 'inokom', 'polski fiat', 'soletta', 'borland racing developments', 'belgee', 'orca engineering ', 'lanchester', 'keohwa', 'jeep', 'hommell', 'fsm', 'aws', 'seaz', 'méga', 'interstate', 'dennis', 'dynasty', 'meteor', 'iava', 'pacific trucks', 'pancar', 'duesenberg', 'matra', 'scg', 'setra', 'avia', 'lotec', 'smz', 'doking', 'volvo cars', 'adams brothers', 'comil', 'genesis', 'leblanc', 'chandler', 'scion', 'delahaye', 'mosler', 'simplex', 'glas', 'proterra', 'fuso', 'sterling trucks', 'farus', 'vencer', 'gm uzbekistan', 'inkas', 'valmet automotive', 'jinbei', 'mclaren', 'acura', 'freightliner', 'zotye', 'imperial', 'datsun', 'lasalle', 'guleryuz', 'changan', 'trekka', 'theologou', 'david brown automotive', 'vlf automotive', 'sisu auto', 'isdera', 'fca', 'volugrafo', 'siam di tella', 'great wall', 'lmx', 'barkas', 'rover', 'ganja auto plant', 'decauville', 'ariel', 'jonway', 'man', 'grahampaige', 'cts', 'arbenz', 'exagon', 'aspark', 'saturn', 'sazgar', 'felino corporation', 'oakland', 'lister', 'alta', 'advanced automotive design', 'kissel', 'austinhealey', 'dacon', 'fsc żuk', 'jensen', 'ctt united', 'caterham', 'polaris', 'autoar', 'kaiser', 'kal', 'perodua', 'chrysler', 'bitter', 'white', 'ssangyong', 'crawford', 'artega', 'austrodaimler', 'tushek  spigel', 'chalmers', 'geo', 'rauch and lang', 'trion supercars', 'simson', 'daewoo', 'daniels', 'bmtf', 'tata daewoo', 'bulgarrenault', 'kawasaki', 'sin', 'noble', 'reliant motors', 'dort', 'storero', 'itala', 'healey', 'speedwell', 'passport', 'roewe', 'electric raceabout', 'esemka', 'rimac', 'praga', 'chiribiri', 'fornasari', 'samhung motors', 'volvo buses', 'cutting', 'gm korea', 'frazer', 'king', 'škoda', 'junior', 'modec', 'zil', 'ajlani motors', 'yulon', 'buick', 'nyberg', 'dewan farooque motors', 'polestar', 'united auto industries', 'monteverdi', 'google', 'bizzarrini', 'ruf', 'baker electric', 'british leyland', 'local', 'proto', 'messerschmitt', 'rapid', 'bates', 'icml', 'uro', 'felber', 'tam', 'western star', 'moaz', 'mahindra', 'falcon motorsports', 'studebaker', 'togg', 'jiangling', 'neobus', 'delage', 'borgward', 'dim', 'zinoro', 'ursus', 'edfor ', 'sunbeam', 'velie', 'rochetschneider', 'ideal jawa', 'azsamand', 'mekong auto', 'litex', 'soueast', 'ginetta', 'hummer', 'westcott', 'etox', 'austrotatra', 'kish khodro', 'humber', 'clénet', 'arcimoto', 'plymouth', 'maxwell', 'osca', 'ace ev group', 'subaru', 'popetribune', 'biamax', 'lexington', 'dina', 'crosley', 'brilliance', 'suzuki', 'hillman', 'almazora motors', 'gurgel', 'ac', 'hanomag', 'möve', 'wuling', 'simca', 'lada', 'yamaha', 'scania', 'nissan', 'aion', 'scrippsbooth', 'stutz', 'wallyscar', 'lancia', 'avtotor', 'cisitalia', 'venirauto', 'new flyer', 'shelby', 'mitsubishi motors', 'excalibur', 'ktm', 'singer', 'koller', 'lloyd', 'sungri motors', 'melkus', 'crespi', 'gonow', 'auto union', 'hansa', 'hofstetter', 'aurea', 'apollo', 'gem', 'adler', 'ezgo', 'bugatti', 'eniak', 'iveco', 'raf ', 'fiat somaca ', 'gillet', 'alpine', 'perana performance group', 'lorrainedietrich', 'mavarenault', 'dauer', 'tmc', 'astra international', 'mini', 'li auto', 'korres', 'apis', 'columbia', 'indomobil group', 'aspid', 'busscar', 'flint', 'bmc', 'hayes trucks', 'tvr', 'cizeta', 'grinnall', 'voyah', 'bolwell', 'bioman', 'lambretta', 'tucker', 'magna steyr', 'saab ', 'continental', 'zust', 'moretti', 'asahi', 'marmonherrington', 'neman', 'xpeng', 'kaipan', 'willys', 'laforza', 'sofia', 'envoy', 'canoo', 'mobius motors', 'baw', 'bestune', 'mclaughlin', 'laraki', 'vinaxuki', 'vauxhall', 'grumman', 'saz', 'aixam', 'helicron', 'daimler', 'saehan', 'kraz', 'steyr', 'intrall', 'dupont', 'tvs', 'kamaz', 'panoz', 'nash', 'yomobile', 'jackson', 'timor', 'porsche', 'gmc', 'otokar', 'eunos', 'eraz', 'automeccanica', 'scat', 'bricklin', 'oldsmobile', 'zagato', 'avanti motor company', 'delaunaybelleville', 'brasinca', 'burton', 'maserati', 'elgin', 'mdi', 'tesla', 'raesr', 'mastretta', 'sarao motors', 'marussia', 'jaguar', 'stoddarddayton', 'bristol', 'brabham automotive', 'kinetic engineering limited', 'asa', 'chinkara', 'baojun', 'casalini', 'toroidion', 'baic', 'manic', 'mack', 'marathon motors engineering', 'troller', 'abadal', 'gaz ', 'spyker', 'snvi', 'hongqi', 'hawtai', 'essex', 'alpina', 'lucid motors', 'heibao', 'siata', 'gumpert', 'alvis', 'gillig', 'talbotlago', 'gordon keeble', 'saleen', 'volvo trucks', 'international harvester', 'yutong', 'dome', 'yudo auto', 'standard', 'ducati', 'force', 'italdesign', 'rezvani motors', 'desoto', 'opel', 'liaz', 'dadi auto', 'tommykaira', 'autokinitoviomihania ellados', 'jac motors', 'star', 'lexus', 'pagani', 'gaz', 'nardi', 'mitsuoka', 'saipa', 'minardi', 'wiesmann', 'iso', 'huppyeats', 'brush', 'mascarello', 'moon', 'rivian', 'smart', 'nag', 'adam motor company', 'ronart cars', 'emgrand', 'ferrari', 'euauto', 'zaz', 'zenn', 'zastava ', 'van hool', 'oltcit', 'zundapp', 'vpg', 'leahead', 'landwind', 'zenvo', 'belaz', 'autocar', 'goliath', 'piercearrow', 'saker cars', 'renault somaca', 'awz', 'atalanta motors', 'özaltin', 'irizar', 'rocar', 'riley', 'auburn', 'sterling', 'facel vega', 'kline kar', 'uniti', 'faraday', 'mcfarlan', 'amur', 'apex motors', 'ud trucks', 'pieper', 'bet', 'russobalt', 'modenas', 'chevrolet', 'autozam', 'hero', 'diatto', 'spa', 'plasan', 'agrale', 'alexander dennis', 'pininfarina', 'vuhl', 'sharps commercials ltd', 'terradyne', 'warszawa', 'venucia', 'lyonsknight', 'pilot', 'spania', 'rootes', 'tempo', 'auverland', 'innocenti', 'zanella', 'ika', 'eldorado', 'trumpchi', 'pgo', 'sibal', 'dr motor', 'carmor', 'lagonda', 'stellantis ', 'dodge', 'ssc', 'peugeot', 'trojan', 'ikarbus', 'vinci', 'proton', 'izh', 'horch', 'portaro ', 'vinfast', 'marcopolo', 'bravia ', 'fso', 'delta ', 'vector', 'bmw', 'tac', 'rollsroyce', 'marmon ', 'durant', 'ajanta group', 'pungs finch', 'sipani', 'vandenbrink', 'doble', 'aston martin', 'hispano suiza', 'tatra', 'citroën', 'temsa', 'workhorse', 'autobianchi', 'imperia', 'cnhtc', 'ida ', 'dongfeng', 'neorion', 'maruti suzuki', 'bremach', 'laz', 'hyundai', 'uaz', 'apperson', 'canam', 'infiniti', 'shan star', 'aptera', 'mercury', 'adamsfarwell', 'tagaz', 'berliet', 'robur', 'tata', 'am general', 'ultima sports', 'ansaldo', 'glm', 'bulgaralpine', 'byd', 'morgan', 'attica', 'wartburg', 'reo', 'asia motorworks', 'de tomaso', 'fn', 'koenigsegg', 'stanguellini', 'srt', 'rossion', 'world auto', 'renault samsung', 'acadian', 'tramontana', 'cupra', 'öaf ', 'mitchell', 'luxgen', 'thai rung', 'trident cars', 'holden', 'sfakianakis', 'jösse car', 'nevs', 'luaz ', 'nakhchivan automobile plant', 'lordstown motors', 'orion', 'romi', 'dakar', 'asüna', 'balkania', 'jpx', 'moskvych', 'donkervoort', 'bac', 'frontenac', 'de dionbouton', 'bowler', 'iame', 'chaparral cars', 'westfield', 'mercedesbenz', 'vespa', 'popetoledo', 'daf', 'aérocarène', 'enc', 'fsr tarpan', 'dymaxion', 'stanley', 'davis', 'etalon', 'devon', 'piaggio', 'sevel argentina', 'hudson', 'ford performance vehicles ', 'alesbury', 'hino', 'samsung', 'packard', 'fnss', 'thomas built buses', 'chery', 'shacman', 'abarth', 'panhard', 'peterbilt', 'fisker', 'maybach', 'deftech', 'fas', 'peerless', 'wolseley', 'hupmobile', 'micro', 'thaco', 'intermeccanica', 'ksu gazal1', 'qoros', 'nagant', 'naza', 'morris', 'elva', 'picpic', 'puch', 'ford', 'cord', 'otomo', 'thomas', 'gkd', 'heinkel', 'higer', 'kia', 'pindad', 'oshkosh', 'vega evx', 'checker', 'métallurgique', 'honda', 'martini', 'hispanoargentina', 'buddy ', 'enzmann', 'land rover', 'faw', 'graydort', 'karmann', 'pyeonghwa motors', 'mopeds india limited', 'aro', 'daihatsu', 'carver', 'heavy industries taxila', 'w motors', 'jowett', 'microcar', 'dartz', 'mvm', 'aero', 'ram', 'prince', 'engesa', 'overland', 'lafayette', 'avtoframos', 'karry', 'mors', 'atul auto', 'qvale', 'monroe', 'ceirano', 'campagna', 'arcfox', 'ashok leyland', 'ats', 'lifan', 'mzkt', 'tauro', 'fnm', 'derby', 'changhe', 'walter fiat', 'volkswagen', 'maz', 'daewoo bus', 'mg', 'amz', 'shamrock ', 'panther westwinds', 'nsu', 'solaris', 'jehle ', 'bajaj', 'nikola motor', 'safari coach', 'replicar hellas', 'gta', 'amplex', 'pancar motor', 'stoewer', 'premier', 'imt', 'russell', 'alco', 'zhongtong bus', 'bellanger', 'vdl berkhof', 'jelcz', 'pierce', 'tangalakistemax', 'foton', 'stearnsknight', 'vemag', 'hanteng', 'ail', 'swaraj mazda', 'austin', 'derways', 'hindustan', 'tara international', 'radical sportscars', 'lozier', 'marcos', 'amc', 'shinjin', 'talbot', 'yugo ', 'paz', 'eagle', 'iran khodro', 'seat', 'eicher', 'rinspeed', 'karsan', 'regal', 'diamond reo trucks', 'innoson motors', 'covini', 'mazda', 'bahman', 'everus', 'aec', 'vignale', 'crosslé', 'karma', 'anadol ', 'bandini', 'stevensduryea', 'thnk', 'lohia machinery', 'steyrdaimlerpuch', 'büssing', 'geely', 'sehol', 'autobacs seven', 'lohner–porsche', 'zsd nysa', 'aad', 'aquila', 'edsel', 'dkw', 'zx auto', 'nio', 'cartercar', 'kenworth', 'trabant', 'anasagasti', 'elfin sports cars', 'audi', 'monarch', 'scuderia ferrari', 'ohta', 'syrena', 'knox', 'autosan', 'lincoln', 'adria mobil', 'saic', 'elvo', 'mtx', 'kantanka', 'detroit electric', 'ligier', 'hennessey', 'all american racers', 'redpath', 'bolloré', 'alfa romeo', 'htt', 'pontiac', 'mci', 'minerva', 'namco', 'ford australia', 'hradyesh', 'lobini', 'daimler truck', 'neoplan', 'iso milano', 'sbarro', 'delorean', 'dacia', 'multicar', 'larmar', 'automixte', 'arrinera', 'gac fiat', 'omega seiki mobility', 'autocars', 'puma', 'bombardier', 'jawa', 'mazzanti', 'nexus automotive', 'lotus', 'gm', 'dorris', 'venturi', 'cmc', 'sollers', 'donald healey', 'anteros coachworks', 'gardner', 'del monte motors', 'diardi', 'moskvitch', 'cadillac', 'umm ', 'beaumont', 'general motors special vehicles ', 'fiat', 'autolatina', 'haima', 'libelle', 'velorex', 'fiattofaş', 'prevost', 'haval', 'lambert', 'giocattolo', 'bertone', 'zimmer', 'marcatrespade', 'bufori', 'vam ', 'erkunt', 'navistar', 'chenardwalcker', 'flag', 'holland car ', 'hafei', 'ramirez ', 'isotta fraschini', 'om', 'devrim ', 'anziel', 'pars khodro', 'renault', 'avani', 'denzel', 'aga', 'spijkstaal', 'mebea', 'jeffery', 'obvio', 'brooks'}\n"
     ]
    }
   ],
   "source": [
    "# print it as set\n",
    "print(set(df1['name_of_manufacturers']))"
   ]
  },
  {
   "attachments": {},
   "cell_type": "markdown",
   "metadata": {},
   "source": [
    "## Text Encoding"
   ]
  },
  {
   "attachments": {},
   "cell_type": "markdown",
   "metadata": {},
   "source": [
    "### Use the list of manufacturers to help you find the top 5 brands from the forum messages by calculating frequency counts; if the same post mentions two or more brands then each of those brands should get their frequency count increased."
   ]
  },
  {
   "cell_type": "code",
   "execution_count": 21,
   "metadata": {},
   "outputs": [
    {
     "name": "stdout",
     "output_type": "stream",
     "text": [
      "['bmw', 'honda', 'acura', 'lexus', 'toyota']\n"
     ]
    }
   ],
   "source": [
    "# create a list of manufacturers\n",
    "manufacturer_list = df1['name_of_manufacturers'].tolist()\n",
    "\n",
    "# check data\n",
    "#print(manufacturer_list)\n",
    "\n",
    "# create a list of brands\n",
    "brands = []\n",
    "for index, row in df.iterrows():\n",
    "    for word in row['comments']:\n",
    "        if word in manufacturer_list:\n",
    "            brands.append(word)\n",
    "\n",
    "# check data\n",
    "#print(brands)\n",
    "\n",
    "# create a dictionary of brands\n",
    "brand_dict = {}\n",
    "for brand in brands:\n",
    "    if brand in brand_dict:\n",
    "        brand_dict[brand] += 1\n",
    "    else:\n",
    "        brand_dict[brand] = 1\n",
    "\n",
    "# check data\n",
    "#print(brand_dict)\n",
    "\n",
    "# sort the dictionary by value\n",
    "sorted_brand_dict = sorted(brand_dict.items(), key=lambda x: x[1], reverse=True)\n",
    "\n",
    "# check data\n",
    "#print(sorted_brand_dict)\n",
    "\n",
    "# create a dataframe from the sorted dictionary\n",
    "df_brand = pd.DataFrame(sorted_brand_dict, columns=['brand', 'count'])\n",
    "\n",
    "# check data\n",
    "#print(df_brand.head())\n",
    "\n",
    "# create a list of top 5 brands\n",
    "top_5_brands = df_brand['brand'].tolist()[:5]\n",
    "\n",
    "# check data\n",
    "print(top_5_brands)"
   ]
  },
  {
   "attachments": {},
   "cell_type": "markdown",
   "metadata": {},
   "source": [
    "### Calculate the frequency of co-mentions of brands. For example, if Honda and Toyota are mentioned in the same post then the co-mention frequency of Honda and Toyota increases by 1. Which are the top 3 brand pairs which get mentioned together the most?"
   ]
  },
  {
   "cell_type": "code",
   "execution_count": 22,
   "metadata": {},
   "outputs": [
    {
     "name": "stdout",
     "output_type": "stream",
     "text": [
      "[('bmw', 'lexus'), ('toyota', 'honda'), ('bmw', 'acura')]\n"
     ]
    }
   ],
   "source": [
    "# create a list of brand pairs\n",
    "brand_pairs = []\n",
    "for index, row in df.iterrows():\n",
    "    for i in range(len(row['comments'])):\n",
    "        for j in range(i+1, len(row['comments'])):\n",
    "            if row['comments'][i] in top_5_brands and row['comments'][j] in top_5_brands:\n",
    "                brand_pairs.append((row['comments'][i], row['comments'][j]))\n",
    "\n",
    "# check data\n",
    "#print(brand_pairs)\n",
    "\n",
    "# create a dictionary of brand pairs\n",
    "brand_pairs_dict = {}\n",
    "for brand_pair in brand_pairs:\n",
    "    if brand_pair in brand_pairs_dict:\n",
    "        brand_pairs_dict[brand_pair] += 1\n",
    "    else:\n",
    "        brand_pairs_dict[brand_pair] = 1\n",
    "\n",
    "# check data\n",
    "#print(brand_pairs_dict)\n",
    "\n",
    "# sort the dictionary by value\n",
    "sorted_brand_pairs_dict = sorted(brand_pairs_dict.items(), key=lambda x: x[1], reverse=True)\n",
    "\n",
    "# check data\n",
    "#print(sorted_brand_pairs_dict)\n",
    "\n",
    "# create a dataframe from the sorted dictionary\n",
    "df_brand_pairs = pd.DataFrame(sorted_brand_pairs_dict, columns=['brand_pair', 'count'])\n",
    "\n",
    "# check data\n",
    "#print(df_brand_pairs.head())\n",
    "\n",
    "# create a list of top 3 brand pairs\n",
    "top_3_brand_pairs = df_brand_pairs['brand_pair'].tolist()[:3]\n",
    "\n",
    "# check data\n",
    "print(top_3_brand_pairs)"
   ]
  },
  {
   "attachments": {},
   "cell_type": "markdown",
   "metadata": {},
   "source": [
    "### Find the most frequent attributes of the top 5 brands. For example, if the top 5 brands are Honda, Toyota, Ford, Nissan and BMW, then the most frequent attributes of these brands are the words that appear in the same post as these brands. Which are the top 5 attributes of the top 5 brands?"
   ]
  },
  {
   "cell_type": "code",
   "execution_count": 35,
   "metadata": {},
   "outputs": [
    {
     "name": "stdout",
     "output_type": "stream",
     "text": [
      "[('car', 3813), (\"n't\", 3609), (\"'s\", 3492), ('like', 2452), ('would', 2373), ('cars', 2183), ('get', 2170), ('one', 2163), ('``', 2139), (\"''\", 1908), ('...', 1830), ('new', 1708), ('think', 1684), ('good', 1656), ('much', 1498), (\"'m\", 1449), ('drive', 1429), ('better', 1395), ('also', 1365), ('really', 1230), ('well', 1223), ('want', 1217), ('even', 1209), ('know', 1204), ('tl', 1093), ('price', 1082), (\"'ve\", 1051), ('could', 1036), ('3', 1019), ('go', 1007), ('years', 1000), ('buy', 996), ('driving', 978), (\"'d\", 966), ('time', 959), ('best', 956), ('still', 953), ('looking', 940), ('people', 923), ('great', 899), ('used', 897), (\"'ll\", 882), ('make', 875), ('see', 870), ('sedan', 866), ('g35', 866), ('way', 861), ('going', 850), ('need', 827), ('say', 815), ('look', 814), ('performance', 804), ('miles', 791), ('year', 776), ('less', 772), (\"'re\", 771), ('engine', 769), ('lot', 767), ('back', 741), ('accord', 727), ('right', 719), ('sure', 719), ('said', 715), ('many', 714), ('around', 712), ('something', 708), ('probably', 692), ('take', 691), ('nice', 677), ('two', 665), ('might', 656), ('test', 647), ('got', 647), ('little', 637), ('power', 635), ('find', 629), ('since', 618), ('may', 615), ('old', 611), ('ca', 611), ('vehicle', 610), ('first', 606), ('long', 604), ('never', 600), ('interior', 594), ('luxury', 590), ('though', 579), ('another', 570), ('reliability', 570), ('pretty', 568), ('2', 565), ('last', 560), ('money', 557), ('thing', 546), ('maybe', 545), ('model', 545), ('getting', 538), ('feel', 531), ('4', 524), ('point', 524), ('big', 523), ('fun', 521), ('manual', 520), ('handling', 519), ('bit', 509), ('actually', 501), ('thanks', 499), ('different', 497), ('gas', 482), ('keep', 479), ('dealer', 477), ('least', 475), ('series', 474), ('far', 474), ('mileage', 472), ('5', 465), ('value', 464), ('looks', 463), ('love', 461), ('either', 458), ('every', 456), ('6', 444), ('seems', 441), ('road', 439), ('anything', 437), ('always', 435), ('reliable', 435), ('infiniti', 432), ('awd', 429), ('give', 427), ('rwd', 426), ('vehicles', 425), ('hard', 423), ('audi', 421), ('etc', 421), ('sport', 421), ('buying', 420), ('made', 419), ('without', 419), ('things', 418), ('cost', 417), ('drove', 415), ('makes', 415), ('driven', 413), ('high', 411), ('enough', 408), ('330i', 407), ('almost', 407), ('....', 404), ('hp', 404), ('--', 403), ('put', 402), ('agree', 401), ('bad', 401), ('come', 400), ('bought', 398), ('next', 393), ('difference', 392), ('camry', 392), ('tires', 385), ('believe', 382), ('us', 379), ('ride', 379), ('fwd', 379), ('choice', 379), ('..', 379), ('nothing', 375), ('help', 375), ('warranty', 374), ('low', 373), ('end', 373), ('v6', 372), ('real', 370), ('nissan', 368), ('class', 366), ('guess', 366), ('auto', 365), ('yes', 364), ('top', 363), ('deal', 363), ('use', 362), ('small', 362), ('mpg', 362), ('problem', 361), ('list', 361), ('quite', 361), ('civic', 361), ('ever', 360), ('experience', 359), ('check', 356), ('worth', 354), ('course', 354), ('let', 353), ('thought', 353), ('yet', 353), ('seats', 350), ('else', 349), ('range', 349), ('fact', 347), ('consider', 346), ('anyone', 346), ('work', 345), ('seat', 345), ('front', 340), ('read', 337), ('driver', 336), ('others', 334), ('however', 334), ('mazda', 334), ('automatic', 333), ('fuel', 332), ('comes', 331), ('tsx', 329), ('transmission', 328), ('package', 322), ('g', 320), ('models', 319), ('altima', 316), ('gets', 316), ('day', 315), ('especially', 313), ('speed', 311), ('try', 311), ('someone', 309), ('quality', 308), ('reason', 308), ('features', 308), ('pay', 307), ('torque', 307), ('everything', 306), ('based', 306), ('problems', 304), ('sales', 304), ('sedans', 303), ('1', 303), ('close', 299), ('available', 298), ('wo', 298), ('rear', 298), ('plus', 298), ('coupe', 297), ('trying', 293), ('lease', 293), ('issue', 292), ('options', 291), ('mind', 291), ('brand', 290), ('expensive', 288), ('higher', 286), ('found', 285), ('fit', 285), ('care', 282), ('seem', 281), ('live', 280), ('highway', 280), ('a4', 278), ('ford', 278), ('wrong', 277), ('size', 277), ('post', 276), ('compared', 275), ('cts', 274), ('market', 273), ('wife', 270), ('able', 269), ('mean', 268), ('standard', 265), ('important', 264), ('tell', 263), ('option', 263), ('hyundai', 261), ('ago', 260), ('system', 258), ('leather', 257), ('opinion', 256), ('current', 256), ('line', 255), ('second', 255), ('must', 255), ('10', 254), ('months', 254), ('subaru', 254), ('similar', 253), ('done', 253), ('question', 253), ('economy', 253), ('owned', 252), ('talking', 251), ('wheel', 250), ('side', 250), ('room', 249), ('premium', 248), ('vw', 248), ('away', 248), ('kind', 247), ('although', 247), ('true', 246), ('couple', 246), ('snow', 246), ('fine', 246), ('unless', 246), ('considering', 245), ('safety', 245), ('times', 243), ('rather', 242), ('sell', 240), ('mb', 239), ('three', 239), ('numbers', 239), ('spend', 238), ('world', 237), ('extra', 237), ('regards', 236), ('level', 235), ('fast', 235), ('purchase', 233), ('gm', 233), ('issues', 232), ('maintenance', 232), ('run', 232), ('everyone', 231), ('thinking', 231), ('japanese', 231), ('needs', 230), ('start', 228), ('seen', 227), ('steering', 226), ('cheap', 225), ('looked', 225), ('base', 224), ('matter', 223), ('days', 223), ('lower', 221), ('comfortable', 221), ('near', 220), ('wheels', 220), ('drives', 219), ('already', 218), ('month', 218), ('volvo', 217), ('lots', 217), ('mercedes', 215), ('due', 215), ('maxima', 214), ('set', 213), ('prices', 213), ('discussion', 211), ('left', 210), ('overall', 208), ('http', 208), ('suv', 208), ('definitely', 208), ('c', 207), ('part', 207), ('choices', 206), ('design', 206), ('prefer', 205), ('family', 205), ('wanted', 205), ('is300', 203), ('sports', 203), ('add', 202), ('change', 202), ('area', 201), ('simply', 201), ('case', 201)]\n"
     ]
    }
   ],
   "source": [
    "# create a list of attributes\n",
    "attributes = []\n",
    "for index, row in df.iterrows():\n",
    "    for word in row['comments']:\n",
    "        if word not in top_5_brands:\n",
    "            attributes.append(word)\n",
    "\n",
    "# check data\n",
    "#print(attributes)\n",
    "\n",
    "# create a dictionary of attributes\n",
    "attribute_dict = {}\n",
    "for attribute in attributes:\n",
    "    if attribute in attribute_dict:\n",
    "        attribute_dict[attribute] += 1\n",
    "    else:\n",
    "        attribute_dict[attribute] = 1\n",
    "\n",
    "# check data\n",
    "#print(attribute_dict)\n",
    "\n",
    "# sort the dictionary by value\n",
    "sorted_attribute_dict = sorted(attribute_dict.items(), key=lambda x: x[1], reverse=True)\n",
    "\n",
    "# check data\n",
    "#print(sorted_attribute_dict)\n",
    "\n",
    "# remove words that appear less than 200 times\n",
    "sorted_attribute_dict = [x for x in sorted_attribute_dict if x[1] > 200]\n",
    "\n",
    "# check data\n",
    "print(sorted_attribute_dict)"
   ]
  },
  {
   "attachments": {},
   "cell_type": "markdown",
   "metadata": {},
   "source": [
    "#### We can select top attributes from above: ['reliability', 'reliable', 'luxury', 'pretty', 'fun', 'expensive']"
   ]
  },
  {
   "cell_type": "code",
   "execution_count": 36,
   "metadata": {},
   "outputs": [
    {
     "name": "stdout",
     "output_type": "stream",
     "text": [
      "['bmw', 'honda', 'acura', 'lexus', 'toyota', ['reliability', 'reliable', 'luxury', 'pretty', 'fun', 'expensive'], ['reliability', 'reliable', 'luxury', 'pretty', 'fun', 'expensive']]\n",
      "          brand_attribute  count\n",
      "0   (bmw, luxury)          164  \n",
      "1   (bmw, fun)             123  \n",
      "2   (bmw, reliability)     120  \n",
      "3   (honda, reliability)   108  \n",
      "4   (acura, luxury)        101  \n",
      "5   (lexus, luxury)        96   \n",
      "6   (bmw, pretty)          92   \n",
      "7   (toyota, reliability)  90   \n",
      "8   (honda, reliable)      85   \n",
      "9   (toyota, reliable)     81   \n",
      "10  (bmw, expensive)       76   \n",
      "11  (lexus, reliability)   69   \n",
      "12  (bmw, reliable)        64   \n",
      "13  (honda, fun)           63   \n",
      "14  (honda, pretty)        59   \n",
      "15  (acura, reliability)   56   \n",
      "16  (honda, luxury)        56   \n",
      "17  (acura, pretty)        53   \n",
      "18  (acura, fun)           51   \n",
      "19  (lexus, fun)           51   \n",
      "20  (toyota, fun)          50   \n",
      "21  (toyota, luxury)       45   \n",
      "22  (toyota, pretty)       45   \n",
      "23  (lexus, pretty)        41   \n",
      "24  (acura, expensive)     39   \n",
      "25  (lexus, reliable)      36   \n",
      "26  (acura, reliable)      32   \n",
      "27  (honda, expensive)     31   \n",
      "28  (lexus, expensive)     26   \n",
      "29  (toyota, expensive)    26   \n"
     ]
    }
   ],
   "source": [
    "# create a list of top 6 attributes containing reliability, reliable, luxury, pretty, fun, expensive and check if this list is associated with the top 5 brands\n",
    "top_6_attributes = ['reliability', 'reliable', 'luxury', 'pretty', 'fun', 'expensive']\n",
    "top_5_brands.append(top_6_attributes)\n",
    "\n",
    "# check data\n",
    "print(top_5_brands)\n",
    "\n",
    "# create a list of brand attributes\n",
    "brand_attributes = []\n",
    "for index, row in df.iterrows():\n",
    "    for i in range(len(row['comments'])):\n",
    "        if row['comments'][i] in top_5_brands:\n",
    "            for j in range(len(row['comments'])):\n",
    "                if row['comments'][j] in top_6_attributes:\n",
    "                    brand_attributes.append((row['comments'][i], row['comments'][j]))\n",
    "\n",
    "# check data\n",
    "#print(brand_attributes)\n",
    "\n",
    "# create a dictionary of brand attributes\n",
    "brand_attributes_dict = {}\n",
    "for brand_attribute in brand_attributes:\n",
    "    if brand_attribute in brand_attributes_dict:\n",
    "        brand_attributes_dict[brand_attribute] += 1\n",
    "    else:\n",
    "        brand_attributes_dict[brand_attribute] = 1\n",
    "\n",
    "# check data\n",
    "#print(brand_attributes_dict)\n",
    "\n",
    "# sort the dictionary by value\n",
    "sorted_brand_attributes_dict = sorted(brand_attributes_dict.items(), key=lambda x: x[1], reverse=True)\n",
    "\n",
    "# check data\n",
    "#print(sorted_brand_attributes_dict)\n",
    "\n",
    "# create a dataframe from the sorted dictionary\n",
    "df_brand_attributes = pd.DataFrame(sorted_brand_attributes_dict, columns=['brand_attribute', 'count'])\n",
    "\n",
    "# check data\n",
    "print(df_brand_attributes)"
   ]
  },
  {
   "cell_type": "code",
   "execution_count": 25,
   "metadata": {},
   "outputs": [
    {
     "data": {
      "image/png": "[encoded data removed]",
      "text/plain": [
       "<Figure size 3600x720 with 1 Axes>"
      ]
     },
     "metadata": {
      "needs_background": "light"
     },
     "output_type": "display_data"
    }
   ],
   "source": [
    "# import matplotlib\n",
    "import matplotlib.pyplot as plt\n",
    "\n",
    "# visualize df_brand_attributes\n",
    "df_brand_attributes.plot.bar(x='brand_attribute', y='count', rot=0, figsize=(50, 10))\n",
    "plt.show()\n"
   ]
  },
  {
   "attachments": {},
   "cell_type": "markdown",
   "metadata": {},
   "source": [
    "### Which is the most aspirational brand in your data in terms of people actually wanting to buy or own?"
   ]
  },
  {
   "attachments": {},
   "cell_type": "markdown",
   "metadata": {},
   "source": [
    "BMW is the most aspirational brand in my data, as it is highly associated with the top 3 attributes that people desire when considering a purchase or ownership. These attributes are all ranked highly in association with the BMW brand."
   ]
  },
  {
   "attachments": {},
   "cell_type": "markdown",
   "metadata": {},
   "source": [
    "### A note of insights:"
   ]
  },
  {
   "attachments": {},
   "cell_type": "markdown",
   "metadata": {},
   "source": [
    "Based on the analysis, it can be assumed that BMW, Acura, and Lexus may target a similar audience as they are the top three brand pairs that are mentioned together the most (BMW and Acura, Toyota and Honda, and Lexus and Acura). Additionally, Toyota and Honda appear to be on a similar level of comparison. Furthermore, the top six attributes (reliability, reliable, luxury, pretty, fun, and expensive) suggests that these are considered important for people looking to buy a car. Therefore, any car manufacturer would likely see better sales if they can match some of these attributes to their vehicles or advertise them in association with the cars."
   ]
  }
 ],
 "metadata": {
  "kernelspec": {
   "display_name": "base",
   "language": "python",
   "name": "python3"
  },
  "language_info": {
   "codemirror_mode": {
    "name": "ipython",
    "version": 3
   },
   "file_extension": ".py",
   "mimetype": "text/x-python",
   "name": "python",
   "nbconvert_exporter": "python",
   "pygments_lexer": "ipython3",
   "version": "3.8.8"
  },
  "orig_nbformat": 4,
  "vscode": {
   "interpreter": {
    "hash": "ea8238db6dc1fe8cf6fe83219457bde9bcbcde2053d40c59d2e78211d10c5fee"
   }
  }
 },
 "nbformat": 4,
 "nbformat_minor": 2
}
